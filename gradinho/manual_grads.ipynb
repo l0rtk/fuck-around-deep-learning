{
 "cells": [
  {
   "cell_type": "code",
   "execution_count": 1,
   "id": "0821df96-cd63-4fa8-a021-fcaef91eece2",
   "metadata": {},
   "outputs": [],
   "source": [
    "import matplotlib.pyplot as plt\n",
    "import numpy as np\n",
    "import math"
   ]
  },
  {
   "cell_type": "code",
   "execution_count": 2,
   "id": "e383ec8c-fd45-4674-ac5d-4e5479134819",
   "metadata": {},
   "outputs": [],
   "source": [
    "def f(x):\n",
    "    return x**2 + 3*x"
   ]
  },
  {
   "cell_type": "code",
   "execution_count": 3,
   "id": "75d473e0-5db6-46a8-bbf3-6935afd0f45d",
   "metadata": {},
   "outputs": [
    {
     "data": {
      "text/plain": [
       "array([-10,  -9,  -8,  -7,  -6,  -5,  -4,  -3,  -2,  -1,   0,   1,   2,\n",
       "         3,   4,   5,   6,   7,   8,   9])"
      ]
     },
     "execution_count": 3,
     "metadata": {},
     "output_type": "execute_result"
    }
   ],
   "source": [
    "t = np.arange(-10, 10, 1)\n",
    "t"
   ]
  },
  {
   "cell_type": "code",
   "execution_count": 4,
   "id": "47e52332-a357-4ce6-820a-efa99025b826",
   "metadata": {},
   "outputs": [
    {
     "data": {
      "text/plain": [
       "[<matplotlib.lines.Line2D at 0x7f65cb6fd1e0>]"
      ]
     },
     "execution_count": 4,
     "metadata": {},
     "output_type": "execute_result"
    },
    {
     "data": {
      "image/png": "[encoded data removed]",
      "text/plain": [
       "<Figure size 640x480 with 1 Axes>"
      ]
     },
     "metadata": {},
     "output_type": "display_data"
    }
   ],
   "source": [
    "plt.plot(t, f(t))"
   ]
  },
  {
   "cell_type": "code",
   "execution_count": 5,
   "id": "e0b7531d-a97f-4ad8-94ea-0dbc1e12f5fe",
   "metadata": {},
   "outputs": [
    {
     "name": "stdout",
     "output_type": "stream",
     "text": [
      "24\n",
      "24.001\n",
      "1.0000000000012221\n"
     ]
    }
   ],
   "source": [
    "a = 5\n",
    "b = 3\n",
    "c = 9\n",
    "h = 0.001\n",
    "# r = a*b + c\n",
    "r1 = a*b + c\n",
    "r2 = a*b + c+h\n",
    "\n",
    "# dr/da = 3\n",
    "# dr/db = 5\n",
    "# dr/dc = 1\n",
    "dr_dc = (r2 - r1)/h\n",
    "print(r1)\n",
    "print(r2)\n",
    "print(dr_dc)"
   ]
  },
  {
   "cell_type": "code",
   "execution_count": 6,
   "id": "3b542f83-bb68-4d10-a6a1-736ae53fea47",
   "metadata": {},
   "outputs": [],
   "source": [
    "class Scalar:\n",
    "    def __init__(self, value,label = '', _children = (), _op = ''):\n",
    "        self.value = value\n",
    "        self._prev = _children \n",
    "        self._op = _op\n",
    "        self.grad = 0.0\n",
    "        self.label = label\n",
    "        \n",
    "    def __add__(self, other):\n",
    "        other = other if isinstance(other, Scalar) else Scalar(other)\n",
    "        out = self.value + other.value\n",
    "        return Scalar(out, _children = (self, other), _op = '+')\n",
    "\n",
    "    def __radd__(self, other):\n",
    "        other = other if isinstance(other, Scalar) else Scalar(other)\n",
    "        out = self.value + other.value\n",
    "        return Scalar(out, _children = (self, other), _op = '+')\n",
    "    \n",
    "    def __sub__(self, other):\n",
    "        other = other if isinstance(other, Scalar) else Scalar(other)\n",
    "        out = self.value - other.value\n",
    "        return Scalar(out, _children = (self, other), _op = '-')\n",
    "    \n",
    "    def __rsub__(self, other):\n",
    "        other = other if isinstance(other, Scalar) else Scalar(other)\n",
    "        out = other.value - self.value\n",
    "        return Scalar(out, _children = (self, other), _op = '-')\n",
    "        \n",
    "    def __mul__(self, other):\n",
    "        other = other if isinstance(other, Scalar) else Scalar(other)\n",
    "        out = self.value * other.value\n",
    "        return Scalar(out, _children = (self, other), _op = '*')\n",
    "\n",
    "    def __rmul__(self, other):\n",
    "        other = other if isinstance(other, Scalar) else Scalar(other)\n",
    "        out = self.value * other.value\n",
    "        return Scalar(out, _children = (self, other), _op = '*')\n",
    "\n",
    "    def __pow__(self, other):\n",
    "        other = other if isinstance(other, Scalar) else Scalar(other)\n",
    "        out = self.value ** other.value\n",
    "        return Scalar(out, _children = (self, other), _op = '**')\n",
    "    \n",
    "    def tanh(self):\n",
    "        return Scalar(math.tanh(self.value), _children = (self, ), _op = \"tanh\")\n",
    "        \n",
    "    \n",
    "    def __repr__(self):\n",
    "        return f\"Scalar(value={str(self.value)})\""
   ]
  },
  {
   "cell_type": "code",
   "execution_count": 7,
   "id": "9f69b37d-ccc4-4d00-bbd5-533aa54a4108",
   "metadata": {},
   "outputs": [],
   "source": [
    "from graphviz import Digraph\n"
   ]
  },
  {
   "cell_type": "code",
   "execution_count": 8,
   "id": "9143921f-3a9d-4ae8-836c-d6cc03ed1c99",
   "metadata": {},
   "outputs": [],
   "source": [
    "def trace(root):\n",
    "    nodes, edges = set(), set()\n",
    "    def build(v):\n",
    "        if v not in nodes:\n",
    "            nodes.add(v)\n",
    "            for child in v._prev:\n",
    "                edges.add((child, v))\n",
    "                build(child)\n",
    "    build(root)\n",
    "    return nodes, edges\n",
    "\n",
    "def draw_dot(root, format='svg', rankdir='LR'):\n",
    "    \"\"\"\n",
    "    format: png | svg | ...\n",
    "    rankdir: TB (top to bottom graph) | LR (left to right)\n",
    "    \"\"\"\n",
    "    assert rankdir in ['LR', 'TB']\n",
    "    nodes, edges = trace(root)\n",
    "    dot = Digraph(format=format, graph_attr={'rankdir': rankdir}) #, node_attr={'rankdir': 'TB'})\n",
    "    \n",
    "    for n in nodes:\n",
    "        dot.node(name=str(id(n)), label = \"{ % | data %.4f | grad %.4f }\" % (n.label,n.value, n.grad), shape='record')\n",
    "        if n._op:\n",
    "            dot.node(name=str(id(n)) + n._op, label=n._op)\n",
    "            dot.edge(str(id(n)) + n._op, str(id(n)))\n",
    "    \n",
    "    for n1, n2 in edges:\n",
    "        dot.edge(str(id(n1)), str(id(n2)) + n2._op)\n",
    "    \n",
    "    return dot"
   ]
  },
  {
   "cell_type": "code",
   "execution_count": 27,
   "id": "425fcd56-e240-465e-9fea-996d9636203f",
   "metadata": {},
   "outputs": [],
   "source": []
  },
  {
   "cell_type": "code",
   "execution_count": 53,
   "id": "8cec36b5-b120-487a-9332-192ab41bb33a",
   "metadata": {},
   "outputs": [
    {
     "data": {
      "image/svg+xml": [
       "<?xml version=\"1.0\" encoding=\"UTF-8\" standalone=\"no\"?>\n",
       "<!DOCTYPE svg PUBLIC \"-//W3C//DTD SVG 1.1//EN\"\n",
       " \"http://www.w3.org/Graphics/SVG/1.1/DTD/svg11.dtd\">\n",
       "<!-- Generated by graphviz version 2.43.0 (0)\n",
       " -->\n",
       "<!-- Title: %3 Pages: 1 -->\n",
       "<svg width=\"1326pt\" height=\"127pt\"\n",
       " viewBox=\"0.00 0.00 1325.69 127.00\" xmlns=\"http://www.w3.org/2000/svg\" xmlns:xlink=\"http://www.w3.org/1999/xlink\">\n",
       "<g id=\"graph0\" class=\"graph\" transform=\"scale(1 1) rotate(0) translate(4 123)\">\n",
       "<title>%3</title>\n",
       "<polygon fill=\"white\" stroke=\"transparent\" points=\"-4,4 -4,-123 1321.69,-123 1321.69,4 -4,4\"/>\n",
       "<!-- 140075143969856 -->\n",
       "<g id=\"node1\" class=\"node\">\n",
       "<title>140075143969856</title>\n",
       "<polygon fill=\"none\" stroke=\"black\" points=\"361.5,-82.5 361.5,-118.5 593.5,-118.5 593.5,-82.5 361.5,-82.5\"/>\n",
       "<text text-anchor=\"middle\" x=\"374.5\" y=\"-96.8\" font-family=\"Times,serif\" font-size=\"14.00\">d</text>\n",
       "<polyline fill=\"none\" stroke=\"black\" points=\"387.5,-82.5 387.5,-118.5 \"/>\n",
       "<text text-anchor=\"middle\" x=\"438.5\" y=\"-96.8\" font-family=\"Times,serif\" font-size=\"14.00\">data 0.3000</text>\n",
       "<polyline fill=\"none\" stroke=\"black\" points=\"489.5,-82.5 489.5,-118.5 \"/>\n",
       "<text text-anchor=\"middle\" x=\"541.5\" y=\"-96.8\" font-family=\"Times,serif\" font-size=\"14.00\">grad 0.0987</text>\n",
       "</g>\n",
       "<!-- 140072262198480* -->\n",
       "<g id=\"node4\" class=\"node\">\n",
       "<title>140072262198480*</title>\n",
       "<ellipse fill=\"none\" stroke=\"black\" cx=\"660\" cy=\"-72.5\" rx=\"27\" ry=\"18\"/>\n",
       "<text text-anchor=\"middle\" x=\"660\" y=\"-68.8\" font-family=\"Times,serif\" font-size=\"14.00\">*</text>\n",
       "</g>\n",
       "<!-- 140075143969856&#45;&gt;140072262198480* -->\n",
       "<g id=\"edge8\" class=\"edge\">\n",
       "<title>140075143969856&#45;&gt;140072262198480*</title>\n",
       "<path fill=\"none\" stroke=\"black\" d=\"M593.58,-82.65C604.24,-80.99 614.4,-79.42 623.4,-78.02\"/>\n",
       "<polygon fill=\"black\" stroke=\"black\" points=\"624.04,-81.46 633.39,-76.47 622.97,-74.55 624.04,-81.46\"/>\n",
       "</g>\n",
       "<!-- 140075143970384 -->\n",
       "<g id=\"node2\" class=\"node\">\n",
       "<title>140075143970384</title>\n",
       "<polygon fill=\"none\" stroke=\"black\" points=\"0,-55.5 0,-91.5 232,-91.5 232,-55.5 0,-55.5\"/>\n",
       "<text text-anchor=\"middle\" x=\"13\" y=\"-69.8\" font-family=\"Times,serif\" font-size=\"14.00\">b</text>\n",
       "<polyline fill=\"none\" stroke=\"black\" points=\"26,-55.5 26,-91.5 \"/>\n",
       "<text text-anchor=\"middle\" x=\"77\" y=\"-69.8\" font-family=\"Times,serif\" font-size=\"14.00\">data 7.0000</text>\n",
       "<polyline fill=\"none\" stroke=\"black\" points=\"128,-55.5 128,-91.5 \"/>\n",
       "<text text-anchor=\"middle\" x=\"180\" y=\"-69.8\" font-family=\"Times,serif\" font-size=\"14.00\">grad 0.0030</text>\n",
       "</g>\n",
       "<!-- 140075142989088+ -->\n",
       "<g id=\"node6\" class=\"node\">\n",
       "<title>140075142989088+</title>\n",
       "<ellipse fill=\"none\" stroke=\"black\" cx=\"295\" cy=\"-45.5\" rx=\"27\" ry=\"18\"/>\n",
       "<text text-anchor=\"middle\" x=\"295\" y=\"-41.8\" font-family=\"Times,serif\" font-size=\"14.00\">+</text>\n",
       "</g>\n",
       "<!-- 140075143970384&#45;&gt;140075142989088+ -->\n",
       "<g id=\"edge6\" class=\"edge\">\n",
       "<title>140075143970384&#45;&gt;140075142989088+</title>\n",
       "<path fill=\"none\" stroke=\"black\" d=\"M231.1,-55.45C240.88,-53.9 250.21,-52.43 258.54,-51.11\"/>\n",
       "<polygon fill=\"black\" stroke=\"black\" points=\"259.19,-54.55 268.52,-49.53 258.1,-47.64 259.19,-54.55\"/>\n",
       "</g>\n",
       "<!-- 140072262198480 -->\n",
       "<g id=\"node3\" class=\"node\">\n",
       "<title>140072262198480</title>\n",
       "<polygon fill=\"none\" stroke=\"black\" points=\"723,-54.5 723,-90.5 954,-90.5 954,-54.5 723,-54.5\"/>\n",
       "<text text-anchor=\"middle\" x=\"735.5\" y=\"-68.8\" font-family=\"Times,serif\" font-size=\"14.00\">e</text>\n",
       "<polyline fill=\"none\" stroke=\"black\" points=\"748,-54.5 748,-90.5 \"/>\n",
       "<text text-anchor=\"middle\" x=\"799\" y=\"-68.8\" font-family=\"Times,serif\" font-size=\"14.00\">data 3.0000</text>\n",
       "<polyline fill=\"none\" stroke=\"black\" points=\"850,-54.5 850,-90.5 \"/>\n",
       "<text text-anchor=\"middle\" x=\"902\" y=\"-68.8\" font-family=\"Times,serif\" font-size=\"14.00\">grad 0.0099</text>\n",
       "</g>\n",
       "<!-- 140072262196128tanh -->\n",
       "<g id=\"node9\" class=\"node\">\n",
       "<title>140072262196128tanh</title>\n",
       "<ellipse fill=\"none\" stroke=\"black\" cx=\"1021.85\" cy=\"-72.5\" rx=\"31.7\" ry=\"18\"/>\n",
       "<text text-anchor=\"middle\" x=\"1021.85\" y=\"-68.8\" font-family=\"Times,serif\" font-size=\"14.00\">tanh</text>\n",
       "</g>\n",
       "<!-- 140072262198480&#45;&gt;140072262196128tanh -->\n",
       "<g id=\"edge7\" class=\"edge\">\n",
       "<title>140072262198480&#45;&gt;140072262196128tanh</title>\n",
       "<path fill=\"none\" stroke=\"black\" d=\"M954.09,-72.5C963.01,-72.5 971.6,-72.5 979.47,-72.5\"/>\n",
       "<polygon fill=\"black\" stroke=\"black\" points=\"979.73,-76 989.73,-72.5 979.73,-69 979.73,-76\"/>\n",
       "</g>\n",
       "<!-- 140072262198480*&#45;&gt;140072262198480 -->\n",
       "<g id=\"edge1\" class=\"edge\">\n",
       "<title>140072262198480*&#45;&gt;140072262198480</title>\n",
       "<path fill=\"none\" stroke=\"black\" d=\"M687.04,-72.5C694.59,-72.5 703.37,-72.5 712.82,-72.5\"/>\n",
       "<polygon fill=\"black\" stroke=\"black\" points=\"712.89,-76 722.89,-72.5 712.89,-69 712.89,-76\"/>\n",
       "</g>\n",
       "<!-- 140075142989088 -->\n",
       "<g id=\"node5\" class=\"node\">\n",
       "<title>140075142989088</title>\n",
       "<polygon fill=\"none\" stroke=\"black\" points=\"358,-27.5 358,-63.5 597,-63.5 597,-27.5 358,-27.5\"/>\n",
       "<text text-anchor=\"middle\" x=\"370\" y=\"-41.8\" font-family=\"Times,serif\" font-size=\"14.00\">c</text>\n",
       "<polyline fill=\"none\" stroke=\"black\" points=\"382,-27.5 382,-63.5 \"/>\n",
       "<text text-anchor=\"middle\" x=\"437.5\" y=\"-41.8\" font-family=\"Times,serif\" font-size=\"14.00\">data 10.0000</text>\n",
       "<polyline fill=\"none\" stroke=\"black\" points=\"493,-27.5 493,-63.5 \"/>\n",
       "<text text-anchor=\"middle\" x=\"545\" y=\"-41.8\" font-family=\"Times,serif\" font-size=\"14.00\">grad 0.0030</text>\n",
       "</g>\n",
       "<!-- 140075142989088&#45;&gt;140072262198480* -->\n",
       "<g id=\"edge4\" class=\"edge\">\n",
       "<title>140075142989088&#45;&gt;140072262198480*</title>\n",
       "<path fill=\"none\" stroke=\"black\" d=\"M597.13,-63.25C606.53,-64.65 615.47,-65.99 623.48,-67.19\"/>\n",
       "<polygon fill=\"black\" stroke=\"black\" points=\"623.03,-70.66 633.44,-68.68 624.07,-63.74 623.03,-70.66\"/>\n",
       "</g>\n",
       "<!-- 140075142989088+&#45;&gt;140075142989088 -->\n",
       "<g id=\"edge2\" class=\"edge\">\n",
       "<title>140075142989088+&#45;&gt;140075142989088</title>\n",
       "<path fill=\"none\" stroke=\"black\" d=\"M322.25,-45.5C329.64,-45.5 338.22,-45.5 347.47,-45.5\"/>\n",
       "<polygon fill=\"black\" stroke=\"black\" points=\"347.74,-49 357.74,-45.5 347.74,-42 347.74,-49\"/>\n",
       "</g>\n",
       "<!-- 140075143004016 -->\n",
       "<g id=\"node7\" class=\"node\">\n",
       "<title>140075143004016</title>\n",
       "<polygon fill=\"none\" stroke=\"black\" points=\"0.5,-0.5 0.5,-36.5 231.5,-36.5 231.5,-0.5 0.5,-0.5\"/>\n",
       "<text text-anchor=\"middle\" x=\"13\" y=\"-14.8\" font-family=\"Times,serif\" font-size=\"14.00\">a</text>\n",
       "<polyline fill=\"none\" stroke=\"black\" points=\"25.5,-0.5 25.5,-36.5 \"/>\n",
       "<text text-anchor=\"middle\" x=\"76.5\" y=\"-14.8\" font-family=\"Times,serif\" font-size=\"14.00\">data 3.0000</text>\n",
       "<polyline fill=\"none\" stroke=\"black\" points=\"127.5,-0.5 127.5,-36.5 \"/>\n",
       "<text text-anchor=\"middle\" x=\"179.5\" y=\"-14.8\" font-family=\"Times,serif\" font-size=\"14.00\">grad 0.0030</text>\n",
       "</g>\n",
       "<!-- 140075143004016&#45;&gt;140075142989088+ -->\n",
       "<g id=\"edge5\" class=\"edge\">\n",
       "<title>140075143004016&#45;&gt;140075142989088+</title>\n",
       "<path fill=\"none\" stroke=\"black\" d=\"M231.6,-35.98C241.12,-37.43 250.19,-38.82 258.33,-40.06\"/>\n",
       "<polygon fill=\"black\" stroke=\"black\" points=\"258.03,-43.55 268.44,-41.6 259.09,-36.63 258.03,-43.55\"/>\n",
       "</g>\n",
       "<!-- 140072262196128 -->\n",
       "<g id=\"node8\" class=\"node\">\n",
       "<title>140072262196128</title>\n",
       "<polygon fill=\"none\" stroke=\"black\" points=\"1089.69,-54.5 1089.69,-90.5 1317.69,-90.5 1317.69,-54.5 1089.69,-54.5\"/>\n",
       "<text text-anchor=\"middle\" x=\"1100.69\" y=\"-68.8\" font-family=\"Times,serif\" font-size=\"14.00\">f</text>\n",
       "<polyline fill=\"none\" stroke=\"black\" points=\"1111.69,-54.5 1111.69,-90.5 \"/>\n",
       "<text text-anchor=\"middle\" x=\"1162.69\" y=\"-68.8\" font-family=\"Times,serif\" font-size=\"14.00\">data 0.9951</text>\n",
       "<polyline fill=\"none\" stroke=\"black\" points=\"1213.69,-54.5 1213.69,-90.5 \"/>\n",
       "<text text-anchor=\"middle\" x=\"1265.69\" y=\"-68.8\" font-family=\"Times,serif\" font-size=\"14.00\">grad 1.0000</text>\n",
       "</g>\n",
       "<!-- 140072262196128tanh&#45;&gt;140072262196128 -->\n",
       "<g id=\"edge3\" class=\"edge\">\n",
       "<title>140072262196128tanh&#45;&gt;140072262196128</title>\n",
       "<path fill=\"none\" stroke=\"black\" d=\"M1053.76,-72.5C1061.43,-72.5 1070.13,-72.5 1079.38,-72.5\"/>\n",
       "<polygon fill=\"black\" stroke=\"black\" points=\"1079.6,-76 1089.6,-72.5 1079.6,-69 1079.6,-76\"/>\n",
       "</g>\n",
       "</g>\n",
       "</svg>\n"
      ],
      "text/plain": [
       "<graphviz.graphs.Digraph at 0x7f65c932bca0>"
      ]
     },
     "execution_count": 53,
     "metadata": {},
     "output_type": "execute_result"
    }
   ],
   "source": [
    "draw_dot(f)"
   ]
  },
  {
   "cell_type": "code",
   "execution_count": 51,
   "id": "857922d9-59c0-4064-afb7-9bbdc92a61a8",
   "metadata": {},
   "outputs": [
    {
     "name": "stdout",
     "output_type": "stream",
     "text": [
      "a : 3.0 Gradient of a: 0.0029598111496320634\n",
      "b : 7.0 Gradient of b: 0.0029598111496320634\n",
      "a : 0.3 Gradient of c: 0.09866037165440211\n"
     ]
    }
   ],
   "source": [
    "a = Scalar(3.0) \n",
    "a.label = 'a'\n",
    "b = Scalar(7.0)\n",
    "b.label = 'b'\n",
    "c = b + a\n",
    "c.label = 'c'\n",
    "d = Scalar(0.3)\n",
    "d.label = 'd'\n",
    "e = c * d\n",
    "e.label = 'e'\n",
    "f = e.tanh()\n",
    "f.label = 'f'\n",
    "\n",
    "\n",
    "# df/df\n",
    "df_df = 1.0\n",
    "f.grad = df_df\n",
    "\n",
    "# df/de\n",
    "df_de = 1 - e.tanh()**2\n",
    "e.grad = df_de.value\n",
    "\n",
    "# df/dd = df/de * de/dd\n",
    "de_dd = c.value\n",
    "df_dd = df_de * de_dd\n",
    "d.grad = df_dd.value\n",
    "\n",
    "# df/dc = df/de * de/dc\n",
    "de_dc = d.value\n",
    "df_dc = df_de * de_dc\n",
    "c.grad = df_dc.value\n",
    "\n",
    "# df/db = df/de * de/dc * dc/db\n",
    "dc_db = 1.0\n",
    "df_db = df_de * de_dc * dc_db\n",
    "b.grad = df_db.value\n",
    "\n",
    "# df/da = df/de * de/dc * dc/da\n",
    "dc_da = 1.0\n",
    "df_da = df_de * de_dc * dc_da\n",
    "a.grad = df_da.value\n",
    "\n",
    "\n",
    "\n",
    "\n",
    "print(f\"a : {a.value} Gradient of a: {a.grad}\")\n",
    "print(f\"b : {b.value} Gradient of b: {b.grad}\")\n",
    "print(f\"a : {d.value} Gradient of c: {d.grad}\")\n"
   ]
  },
  {
   "cell_type": "code",
   "execution_count": 52,
   "id": "91c4438a-6c09-4230-b8bf-7718466d333b",
   "metadata": {},
   "outputs": [
    {
     "name": "stdout",
     "output_type": "stream",
     "text": [
      "a : 3.0 Gradient of a: 0.0029597945977002382\n",
      "b : 7.0 Gradient of b: 0.0029597945977002382\n",
      "d : 0.30000001192092896 Gradient of c: 0.09865981340408325\n"
     ]
    }
   ],
   "source": [
    "def test_grads():\n",
    "    import torch\n",
    "\n",
    "    # Define variables with requires_grad=True to track computation for gradients\n",
    "    a = torch.tensor(3.0, requires_grad=True)\n",
    "    b = torch.tensor(7.0, requires_grad=True)\n",
    "    c = b + a\n",
    "\n",
    "    d = torch.tensor(0.3, requires_grad=True)\n",
    "    \n",
    "    # Define intermediate variables\n",
    "    e = c * d\n",
    "    f = e.tanh()\n",
    "\n",
    "\n",
    "    # Compute gradients\n",
    "    f.backward()\n",
    "    # Print gradients\n",
    "    print(f\"a : {a.data} Gradient of a: {a.grad}\")\n",
    "    print(f\"b : {b.data} Gradient of b: {b.grad}\")\n",
    "    print(f\"d : {d.data} Gradient of c: {d.grad}\")\n",
    "\n",
    "test_grads()"
   ]
  },
  {
   "cell_type": "code",
   "execution_count": null,
   "id": "e5c6afa1-8a24-477a-8c8a-350ff3c99095",
   "metadata": {},
   "outputs": [],
   "source": []
  },
  {
   "cell_type": "code",
   "execution_count": null,
   "id": "0d59928e-88c8-40c3-8a86-ab95af31fff3",
   "metadata": {},
   "outputs": [],
   "source": []
  },
  {
   "cell_type": "code",
   "execution_count": null,
   "id": "7a0cd6ca-4789-434d-95b4-25717e32dc8a",
   "metadata": {},
   "outputs": [],
   "source": []
  },
  {
   "cell_type": "code",
   "execution_count": null,
   "id": "fe3f91ef-dddd-4b25-a4a6-d164c532b5be",
   "metadata": {},
   "outputs": [],
   "source": []
  },
  {
   "cell_type": "code",
   "execution_count": null,
   "id": "be06372c-ddee-4cbd-8dc1-aefdf9d7136f",
   "metadata": {},
   "outputs": [],
   "source": []
  },
  {
   "cell_type": "code",
   "execution_count": null,
   "id": "37f98cc2-19a2-4df2-a356-ff5d293dd547",
   "metadata": {},
   "outputs": [],
   "source": []
  }
 ],
 "metadata": {
  "kernelspec": {
   "display_name": "Python 3 (ipykernel)",
   "language": "python",
   "name": "python3"
  },
  "language_info": {
   "codemirror_mode": {
    "name": "ipython",
    "version": 3
   },
   "file_extension": ".py",
   "mimetype": "text/x-python",
   "name": "python",
   "nbconvert_exporter": "python",
   "pygments_lexer": "ipython3",
   "version": "3.10.12"
  }
 },
 "nbformat": 4,
 "nbformat_minor": 5
}
